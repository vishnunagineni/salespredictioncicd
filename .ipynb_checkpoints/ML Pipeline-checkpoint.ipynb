{
 "cells": [
  {
   "cell_type": "code",
   "execution_count": 1,
   "id": "fbcde9b0",
   "metadata": {},
   "outputs": [],
   "source": [
    "#building pipeline for all the above steps\n",
    "\n",
    "#importing libraries\n",
    "import pandas as pd\n",
    "from sklearn.compose import ColumnTransformer\n",
    "from sklearn.impute import SimpleImputer\n",
    "import category_encoders as ce\n",
    "from sklearn.preprocessing import StandardScaler\n",
    "from sklearn.ensemble import RandomForestRegressor\n",
    "from sklearn.pipeline import Pipeline\n",
    "from sklearn.metrics import mean_squared_error\n",
    "\n",
    "#reading training dataset\n",
    "\n",
    "data=pd.read_csv('SalesPrediction.csv')\n",
    "\n",
    "data.head()\n",
    "\n",
    "#separating dependent and independent columns\n",
    "train_x=data.drop(columns=['Item_Outlet_Sales'])\n",
    "train_y=data['Item_Outlet_Sales']"
   ]
  },
  {
   "cell_type": "code",
   "execution_count": 16,
   "id": "605c1b85",
   "metadata": {},
   "outputs": [
    {
     "name": "stderr",
     "output_type": "stream",
     "text": [
      "2022/01/01 21:34:22 INFO mlflow.tracking.fluent: Experiment with name 'MLPipeline' does not exist. Creating a new experiment.\n"
     ]
    },
    {
     "data": {
      "text/plain": [
       "<Experiment: artifact_location='/home/appadm/MLOps/MLFlowService/mlruns/11', experiment_id='11', lifecycle_stage='active', name='MLPipeline', tags={}>"
      ]
     },
     "execution_count": 16,
     "metadata": {},
     "output_type": "execute_result"
    }
   ],
   "source": [
    "import mlflow\n",
    "import mlflow.sklearn\n",
    "mlflow.set_tracking_uri(\"http://10.42.204.118:8000\")\n",
    "mlflow.set_experiment(\"MLPipeline\")"
   ]
  },
  {
   "cell_type": "code",
   "execution_count": 5,
   "id": "b83409d6",
   "metadata": {},
   "outputs": [],
   "source": [
    "#importing baseestimator\n",
    "\n",
    "from sklearn.base import BaseEstimator\n",
    "\n",
    "#creating class outlet identifier\n",
    "#custom transformer must have fit and transform methods\n",
    "class OutletTypeEncoder(BaseEstimator):\n",
    "    def __init__(self):\n",
    "        pass\n",
    "    \n",
    "    def fit(self,documents,y=None):\n",
    "        return self\n",
    "    \n",
    "    def transform(self,x_dataset):\n",
    "        x_dataset['outlet_grocery_store'] = (x_dataset['Outlet_Type'] == 'Grocery Store')*1\n",
    "        x_dataset['outlet_supermarket_3'] = (x_dataset['Outlet_Type'] == 'Supermarket Type3')*1\n",
    "        x_dataset['outlet_identifier_OUT027'] = (x_dataset['Outlet_Identifier'] == 'OUT027')*1\n",
    "        return x_dataset\n"
   ]
  },
  {
   "cell_type": "code",
   "execution_count": 6,
   "id": "536d176a",
   "metadata": {},
   "outputs": [],
   "source": [
    "#preprocessing step\n",
    "#dropping columns\n",
    "#imputing the missing values\n",
    "#Scaling the data if needed\n",
    "\n",
    "pre_process=ColumnTransformer(remainder='passthrough',\n",
    "                                transformers=[('drop_columns', 'drop', ['Item_Identifier',\n",
    "                                                                        'Outlet_Identifier',\n",
    "                                                                        'Item_Fat_Content',\n",
    "                                                                        'Item_Type',\n",
    "                                                                        'Outlet_Identifier',\n",
    "                                                                        'Outlet_Size',\n",
    "                                                                        'Outlet_Location_Type',\n",
    "                                                                        'Outlet_Type'\n",
    "                                                                       ]),\n",
    "                                              ('impute_item_weight', SimpleImputer(strategy='mean'), ['Item_Weight']),\n",
    "                                              ('scale_data', StandardScaler(),['Item_MRP'])])"
   ]
  },
  {
   "cell_type": "code",
   "execution_count": 7,
   "id": "8ba0a7b3",
   "metadata": {},
   "outputs": [],
   "source": [
    "#Defining pipeline \n",
    "\n",
    "\"\"\"\n",
    "Step1: get the updated binary columns\n",
    "Step2: preprocessing\n",
    "Step3: Training the model\n",
    "\"\"\"\n",
    "model_pipeline=Pipeline(steps=[('get_outlet_binary_columns', OutletTypeEncoder()), \n",
    "                                 ('pre_processing',pre_process),\n",
    "                                 ('random_forest', RandomForestRegressor(max_depth=10,random_state=2))\n",
    "                                 ])\n",
    "\n",
    "#fit the pipeline with training data\n",
    "model_pipeline.fit(train_x,train_y)\n",
    "\n",
    "#predicting the training values\n",
    "train_predict_pipeline=model_pipeline.predict(train_x)"
   ]
  },
  {
   "cell_type": "code",
   "execution_count": 17,
   "id": "114a757d",
   "metadata": {},
   "outputs": [],
   "source": [
    "RMSE=mean_squared_error(train_y, train_predict_pipeline)**(0.5)"
   ]
  },
  {
   "cell_type": "code",
   "execution_count": 18,
   "id": "596430dd",
   "metadata": {},
   "outputs": [],
   "source": [
    "mlflow.log_metric(\"RMSE\",RMSE)"
   ]
  },
  {
   "cell_type": "code",
   "execution_count": null,
   "id": "38456f3d",
   "metadata": {},
   "outputs": [],
   "source": [
    "mlflow.sklearn.log_model(model_pipeline,\"model\",registered_model_name=\"randomforestmlpipeline\")"
   ]
  },
  {
   "cell_type": "code",
   "execution_count": 1,
   "id": "efd1a31e",
   "metadata": {},
   "outputs": [],
   "source": [
    "import git\n",
    "\n",
    "repo=git.Repo(\"D:/GitProjects/salesprediction\")"
   ]
  },
  {
   "cell_type": "code",
   "execution_count": 4,
   "id": "0fcc662b",
   "metadata": {},
   "outputs": [
    {
     "data": {
      "text/plain": [
       "[<git.remote.FetchInfo at 0x139bfeba720>]"
      ]
     },
     "execution_count": 4,
     "metadata": {},
     "output_type": "execute_result"
    }
   ],
   "source": [
    "repo.remote().fetch()"
   ]
  },
  {
   "cell_type": "code",
   "execution_count": null,
   "id": "2f3c9eab",
   "metadata": {},
   "outputs": [],
   "source": []
  },
  {
   "cell_type": "code",
   "execution_count": null,
   "id": "43449f1c",
   "metadata": {},
   "outputs": [],
   "source": []
  },
  {
   "cell_type": "code",
   "execution_count": 11,
   "id": "f4d9c845",
   "metadata": {},
   "outputs": [
    {
     "data": {
      "text/plain": [
       "''"
      ]
     },
     "execution_count": 11,
     "metadata": {},
     "output_type": "execute_result"
    }
   ],
   "source": [
    "repo.git.add('--all')"
   ]
  },
  {
   "cell_type": "code",
   "execution_count": 12,
   "id": "e6689757",
   "metadata": {},
   "outputs": [
    {
     "data": {
      "text/plain": [
       "'[master (root-commit) 32264d7] commiting jupyter notebook\\n Committer: vishnunagineni <vishnu.nagineni@zensar.com>\\nYour name and email address were configured automatically based\\non your username and hostname. Please check that they are accurate.\\nYou can suppress this message by setting them explicitly:\\n\\n    git config --global user.name \"Your Name\"\\n    git config --global user.email you@example.com\\n\\nAfter doing this, you may fix the identity used for this commit with:\\n\\n    git commit --amend --reset-author\\n\\n 3 files changed, 8972 insertions(+)\\n create mode 100644 .ipynb_checkpoints/ML Pipeline-checkpoint.ipynb\\n create mode 100644 ML Pipeline.ipynb\\n create mode 100644 SalesPrediction.csv'"
      ]
     },
     "execution_count": 12,
     "metadata": {},
     "output_type": "execute_result"
    }
   ],
   "source": [
    "repo.git.commit('-m',\"commiting jupyter notebook\")"
   ]
  },
  {
   "cell_type": "code",
   "execution_count": 13,
   "id": "826d07b1",
   "metadata": {},
   "outputs": [],
   "source": [
    "origin=repo.remote(name='origin')"
   ]
  },
  {
   "cell_type": "code",
   "execution_count": 14,
   "id": "b83f7b95",
   "metadata": {},
   "outputs": [
    {
     "data": {
      "text/plain": [
       "[<git.remote.PushInfo at 0x259435bae50>]"
      ]
     },
     "execution_count": 14,
     "metadata": {},
     "output_type": "execute_result"
    }
   ],
   "source": [
    "origin.push()"
   ]
  },
  {
   "cell_type": "code",
   "execution_count": 15,
   "id": "4e10b463",
   "metadata": {},
   "outputs": [
    {
     "data": {
      "text/plain": [
       "''"
      ]
     },
     "execution_count": 15,
     "metadata": {},
     "output_type": "execute_result"
    }
   ],
   "source": [
    "git.Git(\"D:/mlflow\").clone(\"D:/Git/salesprediction.git\")"
   ]
  },
  {
   "cell_type": "code",
   "execution_count": null,
   "id": "ccdcb8a3",
   "metadata": {},
   "outputs": [],
   "source": []
  }
 ],
 "metadata": {
  "kernelspec": {
   "display_name": "Python 3",
   "language": "python",
   "name": "python3"
  },
  "language_info": {
   "codemirror_mode": {
    "name": "ipython",
    "version": 3
   },
   "file_extension": ".py",
   "mimetype": "text/x-python",
   "name": "python",
   "nbconvert_exporter": "python",
   "pygments_lexer": "ipython3",
   "version": "3.9.5"
  }
 },
 "nbformat": 4,
 "nbformat_minor": 5
}
